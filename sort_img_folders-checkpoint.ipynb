{
 "cells": [
  {
   "cell_type": "markdown",
   "metadata": {},
   "source": [
    "# Sort and save pictures into folders per year"
   ]
  },
  {
   "cell_type": "markdown",
   "metadata": {},
   "source": [
    "Start by updating file names - replace space by '_'"
   ]
  },
  {
   "cell_type": "code",
   "execution_count": null,
   "metadata": {
    "scrolled": true
   },
   "outputs": [],
   "source": [
    "%%bash\n",
    "cd \"Pictures/iCloud Photos\"/Downloads/\n",
    "for f in 20*/*; do mv \"$f\" `echo $f | tr ' ' '_'`; done"
   ]
  },
  {
   "cell_type": "code",
   "execution_count": null,
   "metadata": {
    "scrolled": true
   },
   "outputs": [],
   "source": [
    "%%bash\n",
    "cd \"Pictures/iCloud Photos\"/Downloads/Switzerland\n",
    "for f in * ; do mv \"$f\" `echo $f | tr ' ' '_'`; done"
   ]
  },
  {
   "cell_type": "code",
   "execution_count": null,
   "metadata": {},
   "outputs": [],
   "source": [
    "%%bash\n",
    "cd \"Pictures/iCloud Photos\"/Downloads/TrumpHotel\n",
    "for f in * ; do mv \"$f\" `echo $f | tr ' ' '_'`; done"
   ]
  },
  {
   "cell_type": "code",
   "execution_count": null,
   "metadata": {},
   "outputs": [],
   "source": [
    "%%bash\n",
    "cd \"Pictures/iCloud Photos\"/Downloads/Gaeltacht\n",
    "for f in * ; do mv \"$f\" `echo $f | tr ' ' '_'`; done"
   ]
  },
  {
   "cell_type": "code",
   "execution_count": null,
   "metadata": {
    "scrolled": true
   },
   "outputs": [],
   "source": [
    "%%bash\n",
    "cd \"Pictures/iCloud Photos\"/Downloads/DennisGraduation\n",
    "for f in * ; do mv \"$f\" `echo $f | tr ' ' '_'`; done"
   ]
  },
  {
   "cell_type": "code",
   "execution_count": null,
   "metadata": {},
   "outputs": [],
   "source": [
    "%%bash\n",
    "cd \"Pictures/iCloud Photos\"/Downloads/2018\n",
    "ls -l |awk '{ if ($8 == \"2016\") print $FILENAME }'| awk '{$1=$2=$3=$4=$5=$6=$7=$8=\"\"; print $0}' | sed -e 's/^[ \\t]*//' > 2016.txt"
   ]
  },
  {
   "cell_type": "code",
   "execution_count": null,
   "metadata": {},
   "outputs": [],
   "source": [
    "%%bash\n",
    "cd \"Pictures/iCloud Photos\"/Downloads/2018\n",
    "ls -l |awk '{ if ($8 == \"2017\") print $FILENAME }'| awk '{$1=$2=$3=$4=$5=$6=$7=$8=\"\"; print $0}' | sed -e 's/^[ \\t]*//' > 2017.txt"
   ]
  },
  {
   "cell_type": "code",
   "execution_count": null,
   "metadata": {},
   "outputs": [],
   "source": [
    "%%bash\n",
    "cd \"Pictures/iCloud Photos\"/Downloads/2018\n",
    "ls -l |awk '{ if ($8 == \"2019\") print $FILENAME }'| awk '{$1=$2=$3=$4=$5=$6=$7=$8=\"\"; print $0}' | sed -e 's/^[ \\t]*//' > 2019.txt"
   ]
  },
  {
   "cell_type": "code",
   "execution_count": null,
   "metadata": {},
   "outputs": [],
   "source": [
    "%%bash\n",
    "cd \"Pictures/iCloud Photos\"/Downloads/2018\n",
    "mv $(find . | grep -F -f 2016.txt) ../2016/\n",
    "mv $(find . | grep -F -f 2017.txt) ../2017/\n",
    "mv $(find . | grep -F -f 2019.txt) ../2019/"
   ]
  },
  {
   "cell_type": "code",
   "execution_count": null,
   "metadata": {
    "scrolled": true
   },
   "outputs": [],
   "source": [
    "%%bash\n",
    "cd \"Pictures/iCloud Photos\"/Downloads/2019\n",
    "ls -l |awk '{ if ($8 == \"2015\") print $FILENAME }'| awk '{$1=$2=$3=$4=$5=$6=$7=$8=\"\"; print $0}' | sed -e 's/^[ \\t]*//' > 2015.txt\n",
    "ls -l |awk '{ if ($8 == \"2016\") print $FILENAME }'| awk '{$1=$2=$3=$4=$5=$6=$7=$8=\"\"; print $0}' | sed -e 's/^[ \\t]*//' > 2016.txt\n",
    "ls -l |awk '{ if ($8 == \"2017\") print $FILENAME }'| awk '{$1=$2=$3=$4=$5=$6=$7=$8=\"\"; print $0}' | sed -e 's/^[ \\t]*//' > 2017.txt\n",
    "ls -l |awk '{ if ($8 == \"2018\") print $FILENAME }'| awk '{$1=$2=$3=$4=$5=$6=$7=$8=\"\"; print $0}' | sed -e 's/^[ \\t]*//' > 2018.txt\n",
    "ls -l |awk '{ if ($8 == \"2020\") print $FILENAME }'| awk '{$1=$2=$3=$4=$5=$6=$7=$8=\"\"; print $0}' | sed -e 's/^[ \\t]*//' > 2020.txt"
   ]
  },
  {
   "cell_type": "code",
   "execution_count": null,
   "metadata": {
    "scrolled": true
   },
   "outputs": [],
   "source": [
    "%%bash\n",
    "cd \"Pictures/iCloud Photos\"/Downloads/2019\n",
    "mv $(find . | grep -F -f 2015.txt) ../2015/\n",
    "mv $(find . | grep -F -f 2016.txt) ../2016/\n",
    "mv $(find . | grep -F -f 2017.txt) ../2017/\n",
    "mv $(find . | grep -F -f 2018.txt) ../2018/\n",
    "mv $(find . | grep -F -f 2020.txt) ../2020/"
   ]
  },
  {
   "cell_type": "code",
   "execution_count": null,
   "metadata": {
    "scrolled": true
   },
   "outputs": [],
   "source": [
    "%%bash\n",
    "cd \"Pictures/iCloud Photos\"/Downloads/2020\n",
    "ls -l |awk '{ if ($8 == \"2015\") print $FILENAME }'| awk '{$1=$2=$3=$4=$5=$6=$7=$8=\"\"; print $0}' | sed -e 's/^[ \\t]*//' > 2015.txt\n",
    "ls -l |awk '{ if ($8 == \"2016\") print $FILENAME }'| awk '{$1=$2=$3=$4=$5=$6=$7=$8=\"\"; print $0}' | sed -e 's/^[ \\t]*//' > 2016.txt\n",
    "ls -l |awk '{ if ($8 == \"2017\") print $FILENAME }'| awk '{$1=$2=$3=$4=$5=$6=$7=$8=\"\"; print $0}' | sed -e 's/^[ \\t]*//' > 2017.txt\n",
    "ls -l |awk '{ if ($8 == \"2018\") print $FILENAME }'| awk '{$1=$2=$3=$4=$5=$6=$7=$8=\"\"; print $0}' | sed -e 's/^[ \\t]*//' > 2018.txt\n",
    "ls -l |awk '{ if ($8 == \"2019\") print $FILENAME }'| awk '{$1=$2=$3=$4=$5=$6=$7=$8=\"\"; print $0}' | sed -e 's/^[ \\t]*//' > 2019.txt"
   ]
  },
  {
   "cell_type": "code",
   "execution_count": null,
   "metadata": {},
   "outputs": [],
   "source": [
    "%%bash\n",
    "cd \"Pictures/iCloud Photos\"/Downloads/2020\n",
    "mv $(find . | grep -F -f 2015.txt) ../2015/\n",
    "mv $(find . | grep -F -f 2016.txt) ../2016/\n",
    "mv $(find . | grep -F -f 2017.txt) ../2017/\n",
    "mv $(find . | grep -F -f 2018.txt) ../2018/\n",
    "mv $(find . | grep -F -f 2019.txt) ../2019/"
   ]
  },
  {
   "cell_type": "code",
   "execution_count": null,
   "metadata": {},
   "outputs": [],
   "source": [
    "%%bash\n",
    "cd \"Pictures/iCloud Photos\"/Downloads/2017\n",
    "ls -l |awk '{ if ($8 == \"2015\") print $FILENAME }'| awk '{$1=$2=$3=$4=$5=$6=$7=$8=\"\"; print $0}' | sed -e 's/^[ \\t]*//' > 2015.txt\n",
    "ls -l |awk '{ if ($8 == \"2016\") print $FILENAME }'| awk '{$1=$2=$3=$4=$5=$6=$7=$8=\"\"; print $0}' | sed -e 's/^[ \\t]*//' > 2016.txt\n",
    "ls -l |awk '{ if ($8 == \"2020\") print $FILENAME }'| awk '{$1=$2=$3=$4=$5=$6=$7=$8=\"\"; print $0}' | sed -e 's/^[ \\t]*//' > 2020.txt\n",
    "ls -l |awk '{ if ($8 == \"2018\") print $FILENAME }'| awk '{$1=$2=$3=$4=$5=$6=$7=$8=\"\"; print $0}' | sed -e 's/^[ \\t]*//' > 2018.txt\n",
    "ls -l |awk '{ if ($8 == \"2019\") print $FILENAME }'| awk '{$1=$2=$3=$4=$5=$6=$7=$8=\"\"; print $0}' | sed -e 's/^[ \\t]*//' > 2019.txt"
   ]
  },
  {
   "cell_type": "code",
   "execution_count": null,
   "metadata": {},
   "outputs": [],
   "source": [
    "%%bash\n",
    "cd \"Pictures/iCloud Photos\"/Downloads/2017\n",
    "mv $(find . | grep -F -f 2015.txt) ../2015/\n",
    "mv $(find . | grep -F -f 2016.txt) ../2016/\n",
    "mv $(find . | grep -F -f 2020.txt) ../2020/\n",
    "mv $(find . | grep -F -f 2018.txt) ../2018/\n",
    "mv $(find . | grep -F -f 2019.txt) ../2019/"
   ]
  },
  {
   "cell_type": "code",
   "execution_count": null,
   "metadata": {},
   "outputs": [],
   "source": [
    "%%bash\n",
    "cd \"Pictures/iCloud Photos\"/Downloads/2016\n",
    "ls -l |awk '{ if ($8 == \"2015\") print $FILENAME }'| awk '{$1=$2=$3=$4=$5=$6=$7=$8=\"\"; print $0}' | sed -e 's/^[ \\t]*//' > 2015.txt\n",
    "ls -l |awk '{ if ($8 == \"2017\") print $FILENAME }'| awk '{$1=$2=$3=$4=$5=$6=$7=$8=\"\"; print $0}' | sed -e 's/^[ \\t]*//' > 2017.txt\n",
    "ls -l |awk '{ if ($8 == \"2020\") print $FILENAME }'| awk '{$1=$2=$3=$4=$5=$6=$7=$8=\"\"; print $0}' | sed -e 's/^[ \\t]*//' > 2020.txt\n",
    "ls -l |awk '{ if ($8 == \"2018\") print $FILENAME }'| awk '{$1=$2=$3=$4=$5=$6=$7=$8=\"\"; print $0}' | sed -e 's/^[ \\t]*//' > 2018.txt\n",
    "ls -l |awk '{ if ($8 == \"2019\") print $FILENAME }'| awk '{$1=$2=$3=$4=$5=$6=$7=$8=\"\"; print $0}' | sed -e 's/^[ \\t]*//' > 2019.txt"
   ]
  },
  {
   "cell_type": "code",
   "execution_count": null,
   "metadata": {
    "scrolled": true
   },
   "outputs": [],
   "source": [
    "%%bash\n",
    "cd \"Pictures/iCloud Photos\"/Downloads/2016\n",
    "mv $(find . | grep -F -f 2015.txt) ../2015/\n",
    "mv $(find . | grep -F -f 2017.txt) ../2017/\n",
    "mv $(find . | grep -F -f 2020.txt) ../2020/\n",
    "mv $(find . | grep -F -f 2018.txt) ../2018/\n",
    "mv $(find . | grep -F -f 2019.txt) ../2019/"
   ]
  },
  {
   "cell_type": "code",
   "execution_count": null,
   "metadata": {},
   "outputs": [],
   "source": [
    "%%bash\n",
    "cd \"Pictures/iCloud Photos\"/Downloads/2017\n",
    "mkdir Videos\n",
    "mv *.MOV Videos/."
   ]
  },
  {
   "cell_type": "code",
   "execution_count": null,
   "metadata": {},
   "outputs": [],
   "source": [
    "%%bash\n",
    "cd \"Pictures/iCloud Photos\"/Downloads/2018\n",
    "mv *.MOV Videos/."
   ]
  },
  {
   "cell_type": "code",
   "execution_count": null,
   "metadata": {},
   "outputs": [],
   "source": [
    "%%bash\n",
    "cd \"Pictures/iCloud Photos\"/Downloads/2019\n",
    "mv *.MOV Videos/."
   ]
  },
  {
   "cell_type": "code",
   "execution_count": null,
   "metadata": {
    "scrolled": true
   },
   "outputs": [],
   "source": []
  }
 ],
 "metadata": {
  "kernelspec": {
   "display_name": "Python 3",
   "language": "python",
   "name": "python3"
  },
  "language_info": {
   "codemirror_mode": {
    "name": "ipython",
    "version": 3
   },
   "file_extension": ".py",
   "mimetype": "text/x-python",
   "name": "python",
   "nbconvert_exporter": "python",
   "pygments_lexer": "ipython3",
   "version": "3.7.4"
  }
 },
 "nbformat": 4,
 "nbformat_minor": 2
}
